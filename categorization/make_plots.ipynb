{
 "cells": [
  {
   "cell_type": "code",
   "execution_count": 1,
   "metadata": {},
   "outputs": [
    {
     "output_type": "stream",
     "name": "stdout",
     "text": "/mnt/c/Users/malin/Documents/Facultate/honours/UMCG/ICU_Augment_and_Detect\n"
    }
   ],
   "source": [
    "%cd '/mnt/c/Users/malin/Documents/Facultate/honours/UMCG/ICU_Augment_and_Detect'"
   ]
  },
  {
   "cell_type": "code",
   "execution_count": 2,
   "metadata": {},
   "outputs": [],
   "source": [
    "import matplotlib.pyplot as plt\n",
    "import cv2\n",
    "import os\n",
    "import sys\n",
    "import numpy as np\n",
    "import pickle\n",
    "import csv\n",
    "import seaborn as sn\n",
    "import pandas as pd\n",
    "import re\n",
    "sys.path.append(os.getcwd())\n"
   ]
  },
  {
   "cell_type": "code",
   "execution_count": 3,
   "metadata": {},
   "outputs": [],
   "source": [
    "save_path = 'categorization/model_saves/'\n",
    "\n",
    "def load_histories(save_path):\n",
    "    history = '/history.pickle'\n",
    "    models = [\"mouth\", \"face\", \"skin\", \"eyes\", \"stacked\"]\n",
    "    all_histories = {}\n",
    "    for model in models:\n",
    "        all_histories[model] = load_average(save_path, model)\n",
    "    return all_histories\n"
   ]
  },
  {
   "cell_type": "code",
   "execution_count": 4,
   "metadata": {},
   "outputs": [],
   "source": [
    "def hasNumbers(inputString):\n",
    "    return bool(re.search(r'\\d', inputString))\n",
    "\n",
    "def rename_keys(dictionary):\n",
    "    new_dictionary = {}\n",
    "    for key in dictionary:\n",
    "        if hasNumbers(key):\n",
    "            new_key = \"_\".join(key.split(\"_\")[:-1])\n",
    "            new_dictionary[new_key] = dictionary[key]\n",
    "        else:\n",
    "            new_dictionary[key] = dictionary[key]\n",
    "    return new_dictionary\n",
    "\n",
    "def load_average(save_path, model):\n",
    "    path = save_path + str(model)\n",
    "    files = os.listdir(path)\n",
    "    i = 0\n",
    "    sum_histories = {}\n",
    "    for f in files:\n",
    "        if \"pickle\" in f:\n",
    "            hist_path = path + \"/history_\" + str(i+1) + \".pickle\"\n",
    "            if not os.path.isfile(hist_path):\n",
    "                hist_path = path + \"/history.pickle\"\n",
    "            hist_file = open(hist_path, \"rb\")\n",
    "            history = pickle.load(hist_file)\n",
    "            history = rename_keys(history)\n",
    "            if i == 0:\n",
    "                sum_histories = history\n",
    "            else:\n",
    "                for key in history:\n",
    "                    sum_histories[key] += history[key]\n",
    "            i += 1\n",
    "    for key in sum_histories:\n",
    "        print(sum_histories[key])\n",
    "        for entry in sum_histories[key]:\n",
    "            entry = entry/i\n",
    "        print(sum_histories[key])\n",
    "\n",
    "    return sum_histories"
   ]
  },
  {
   "cell_type": "code",
   "execution_count": null,
   "metadata": {},
   "outputs": [],
   "source": [
    "def print_raw(all_histories):\n",
    "    with open(\"data/exact_values.csv\", \"w\") as data_file:\n",
    "        writer = csv.writer(data_file, delimiter=',')\n",
    "        header = ['Model', 'Training Accuracy', 'Training AUC', 'Validation Accuracy', 'Validation AUC']\n",
    "        writer.writerow(header)\n",
    "        for model in all_histories:\n",
    "            final = len(all_histories[model][\"accuracy\"]) - 1\n",
    "            row = [str(model), all_histories[model][\"accuracy\"][final], all_histories[model][\"auc\"][final], all_histories[model][\"val_accuracy\"][final], all_histories[model][\"val_auc\"][final]]\n",
    "            writer.writerow(row)\n",
    "\n",
    "def plot_confusion_matrix(all_histories):\n",
    "    for model in all_histories:\n",
    "        final = len(all_histories[model][\"accuracy\"]) - 1\n",
    "        matrix = [[all_histories[model][\"val_true_positives\"][final], all_histories[model][\"val_false_positives\"][final]],\n",
    "                    [all_histories[model][\"val_false_negatives\"][final], all_histories[model][\"val_true_negatives\"][final]]]\n",
    "        df_cm = pd.DataFrame(matrix, index = [\"Positives\", \"Negative\"],\n",
    "              columns = [\"Positives\", \"Negative\"])\n",
    "        ax = plt.axes()\n",
    "        sn.heatmap(df_cm, annot=True, ax=ax)\n",
    "        ax.set_title('Confusion Matrix ' + str(model))\n",
    "        ax.set_xlabel(\"Actual Values\")\n",
    "        ax.set_ylabel(\"Predicted Values\")\n",
    "        plt.savefig(\"data/plots/confusion_matrix_\" + str(model) + \".png\")\n",
    "        plt.show()\n",
    "\n",
    "def plot_all_auc_acc(all_histories):\n",
    "\n",
    "    fig = plt.figure(figsize=(10,10))\n",
    "\n",
    "    plt.subplot(2,2,1)\n",
    "    for key in all_histories:\n",
    "        plt.plot(all_histories[key][\"accuracy\"], label = str(key))\n",
    "    plt.xlim((0,10))\n",
    "    plt.xlabel('Training Epochs')\n",
    "    plt.ylabel('Training Accuracy')\n",
    "    plt.legend(bbox_to_anchor=(0.2, 1.02, 1.8, .102), loc='lower left',\n",
    "            ncol=5, mode=\"expand\", borderaxespad=0., title = \"Model\")\n",
    "\n",
    "    plt.subplot(2,2,2)\n",
    "    for key in all_histories:\n",
    "        plt.plot(all_histories[key][\"auc\"], label = str(key))\n",
    "    plt.xlim((0,10))\n",
    "    plt.xlabel('Training Epochs')\n",
    "    plt.ylabel('Training AUC')\n",
    "\n",
    "    plt.subplot(2,2,3)\n",
    "    for key in all_histories:\n",
    "        plt.plot(all_histories[key][\"val_accuracy\"], label = str(key))\n",
    "    plt.xlim((0,10))\n",
    "    plt.xlabel('Training Epochs')\n",
    "    plt.ylabel('Validation Accuracy')\n",
    "\n",
    "    plt.subplot(2,2,4)\n",
    "    for key in all_histories:\n",
    "        plt.plot(all_histories[key][\"val_auc\"], label = str(key))\n",
    "    plt.xlim((0,10))\n",
    "    plt.xlabel('Training Epochs')\n",
    "    plt.ylabel('Validation AUC')\n",
    "\n",
    "    plt.savefig(\"data/plots/models_acc_auc.png\")\n",
    "    plt.show()\n"
   ]
  },
  {
   "cell_type": "code",
   "execution_count": 5,
   "metadata": {},
   "outputs": [],
   "source": [
    "all_histories = load_histories(save_path)\n"
   ]
  },
  {
   "cell_type": "code",
   "execution_count": 8,
   "metadata": {},
   "outputs": [
    {
     "output_type": "stream",
     "name": "stdout",
     "text": "{'loss': [0.7903287867168048, 0.5114009596922018, 0.4019983000046498, 0.28152484265533656, 0.2193819429423358, 0.1421520849158456, 0.12577101138529476, 0.1088543534726352, 0.10044520246508243, 0.07127687806548837], 'accuracy': [0.5255255, 0.7417417, 0.8258258, 0.9039039, 0.9129129, 0.96997, 0.957958, 0.960961, 0.960961, 0.975976], 'auc': [0.5637806, 0.8295635, 0.9089827, 0.97020197, 0.97606426, 0.992334, 0.9945527, 0.9958333, 0.9949856, 0.99841255], 'false_positives': [50.0, 39.0, 25.0, 16.0, 11.0, 6.0, 7.0, 4.0, 5.0, 1.0], 'true_positives': [60.0, 121.0, 135.0, 152.0, 150.0, 164.0, 161.0, 159.0, 160.0, 161.0], 'true_negatives': [115.0, 126.0, 140.0, 149.0, 154.0, 159.0, 158.0, 161.0, 160.0, 164.0], 'false_negatives': [108.0, 47.0, 33.0, 16.0, 18.0, 4.0, 7.0, 9.0, 8.0, 7.0], 'val_loss': [0.6966892609725127, 0.6977283841854817, 0.6991173802195368, 0.7214361703073656, 0.751561780233641, 0.8223190323726551, 0.9408328984234784, 1.0943021967604354, 1.1596240868439545, 1.1764551433357033], 'val_accuracy': [0.4054054, 0.3783784, 0.3783784, 0.3783784, 0.3783784, 0.3783784, 0.3783784, 0.3783784, 0.3783784, 0.3783784], 'val_auc': [0.36024845, 0.5791925, 0.69875777, 0.818323, 0.77329195, 0.628882, 0.62267077, 0.6257764, 0.5791925, 0.54347825], 'val_false_positives': [22.0, 23.0, 23.0, 23.0, 23.0, 23.0, 23.0, 23.0, 23.0, 23.0], 'val_true_positives': [14.0, 14.0, 14.0, 14.0, 14.0, 14.0, 14.0, 14.0, 14.0, 14.0], 'val_true_negatives': [1.0, 0.0, 0.0, 0.0, 0.0, 0.0, 0.0, 0.0, 0.0, 0.0], 'val_false_negatives': [0.0, 0.0, 0.0, 0.0, 0.0, 0.0, 0.0, 0.0, 0.0, 0.0]}\n"
    }
   ],
   "source": [
    "print(all_histories[\"mouth\"])"
   ]
  },
  {
   "cell_type": "code",
   "execution_count": null,
   "metadata": {},
   "outputs": [],
   "source": []
  }
 ],
 "metadata": {
  "language_info": {
   "codemirror_mode": {
    "name": "ipython",
    "version": 3
   },
   "file_extension": ".py",
   "mimetype": "text/x-python",
   "name": "python",
   "nbconvert_exporter": "python",
   "pygments_lexer": "ipython3",
   "version": "3.7.7-final"
  },
  "orig_nbformat": 2,
  "kernelspec": {
   "name": "python37764biticuconda779bc934972543aea4b002dcc89bcc36",
   "display_name": "Python 3.7.7 64-bit ('icu': conda)"
  }
 },
 "nbformat": 4,
 "nbformat_minor": 2
}