{
 "cells": [
  {
   "cell_type": "code",
   "execution_count": 4,
   "metadata": {},
   "outputs": [
    {
     "output_type": "stream",
     "name": "stdout",
     "text": "/mnt/c/Users/malin/Documents/Facultate/honours/UMCG/ICU_Augment_and_Detect\n"
    }
   ],
   "source": [
    "%cd '/mnt/c/Users/malin/Documents/Facultate/honours/UMCG/ICU_Augment_and_Detect'"
   ]
  },
  {
   "cell_type": "code",
   "execution_count": 5,
   "metadata": {
    "colab": {},
    "colab_type": "code",
    "id": "iAve6DCL4JH4"
   },
   "outputs": [
    {
     "output_type": "stream",
     "name": "stderr",
     "text": "Using TensorFlow backend.\n"
    }
   ],
   "source": [
    "import tensorflow as tf\n",
    "from tensorflow.keras import datasets, layers, models\n",
    "import matplotlib.pyplot as plt\n",
    "import cv2\n",
    "import os\n",
    "import numpy as np\n",
    "from keras.layers.normalization import BatchNormalization\n",
    "from augment.face_org import * \n",
    "import random"
   ]
  },
  {
   "cell_type": "code",
   "execution_count": 7,
   "metadata": {},
   "outputs": [],
   "source": [
    "image_folder_sick = '/mnt/c/Users/malin/Documents/Facultate/honours/UMCG/ICU_Augment_and_Detect/data/parsed/sick'\n",
    "image_folder_healthy = '/mnt/c/Users/malin/Documents/Facultate/honours/UMCG/ICU_Augment_and_Detect/data/parsed/healthy'\n",
    "image_folder_altered = '/mnt/c/Users/malin/Documents/Facultate/honours/UMCG/ICU_Augment_and_Detect/data/parsed/altered'\n",
    "image_folder_cfd = '/mnt/c/Users/malin/Documents/Facultate/honours/UMCG/ICU_Augment_and_Detect/data/parsed/cfd'\n",
    "image_size = 217"
   ]
  },
  {
   "cell_type": "code",
   "execution_count": 8,
   "metadata": {
    "colab": {},
    "colab_type": "code",
    "id": "JWoEqyMuXFF4",
    "tags": [
     "outputPrepend"
    ]
   },
   "outputs": [],
   "source": [
    "\n",
    "def load_data(folder_sick, folder_healthy, image_size, type):\n",
    "    files_healthy = os.listdir(folder_healthy)\n",
    "    files_sick = os.listdir(folder_sick)\n",
    "    data = []\n",
    "    labels = []\n",
    "\n",
    "    for filename in files_healthy:\n",
    "        sick = 0\n",
    "        full_path = folder_healthy + \"/\" + str(filename)\n",
    "        if type in filename and os.path.isfile(full_path):\n",
    "            image =  cv2.imread(full_path)\n",
    "            image = cv2.cvtColor(image, cv2.COLOR_BGR2RGB)\n",
    "            image = cv2.resize(image, dsize=(image_size, image_size), interpolation=cv2.INTER_CUBIC)\n",
    "            data.append(np.asarray(image, dtype = np.int32))\n",
    "            labels.append(np.asarray(sick, dtype = np.int32))\n",
    "    for filename in files_sick:\n",
    "        sick = 1\n",
    "        full_path = folder_sick + \"/\" + str(filename)\n",
    "        if type in filename and os.path.isfile(full_path):\n",
    "            image =  cv2.imread(full_path)\n",
    "            image = cv2.cvtColor(image, cv2.COLOR_BGR2RGB)\n",
    "            image = cv2.resize(image, dsize=(image_size, image_size), interpolation=cv2.INTER_CUBIC)\n",
    "            data.append(np.asarray(image, dtype = np.int32))\n",
    "            labels.append(np.asarray(sick, dtype = np.int32))\n",
    "\n",
    "    events = list(zip(data, labels))\n",
    "    random.shuffle(events)\n",
    "    data, labels = zip(*events)\n",
    "    # print(data)\n",
    "    return np.asarray(data, dtype=np.int32), np.asarray(labels, dtype=np.int32)\n"
   ]
  },
  {
   "cell_type": "code",
   "execution_count": 9,
   "metadata": {
    "tags": [
     "outputPrepend",
     "outputPrepend"
    ]
   },
   "outputs": [],
   "source": [
    "key = \"mouth\"\n",
    "test_images_mouth, test_labels_mouth = load_data(image_folder_sick, image_folder_healthy, image_size, key)\n",
    "train_images_mouth, train_labels_mouth = load_data(image_folder_altered, image_folder_cfd, image_size, key)\n"
   ]
  },
  {
   "cell_type": "code",
   "execution_count": 11,
   "metadata": {
    "colab": {},
    "colab_type": "code",
    "id": "L9YmGQBQPrdn"
   },
   "outputs": [],
   "source": [
    "model = models.Sequential()\n",
    "\n",
    "model.add(layers.Conv2D(image_size, (3, 3), activation='relu', input_shape=(image_size, image_size, 3)))\n",
    "model.add(layers.BatchNormalization())\n",
    "model.add(layers.Conv2D(image_size, (3, 3), activation='relu'))\n",
    "model.add(layers.BatchNormalization())\n",
    "model.add(layers.MaxPooling2D((2, 2)))\n",
    "\n",
    "model.add(layers.Conv2D(int(image_size/2), (3, 3), activation='relu'))\n",
    "model.add(layers.BatchNormalization())\n",
    "model.add(layers.Conv2D(int(image_size/2), (3, 3), activation='relu'))\n",
    "model.add(layers.BatchNormalization())\n",
    "model.add(layers.MaxPooling2D((2, 2)))\n",
    "\n",
    "model.add(layers.Conv2D(int(image_size/4), (3, 3), activation='relu'))\n",
    "model.add(layers.BatchNormalization())\n",
    "model.add(layers.Conv2D(int(image_size/4), (3, 3), activation='relu'))\n",
    "model.add(layers.BatchNormalization())\n",
    "model.add(layers.MaxPooling2D((2, 2)))\n",
    "\n",
    "model.add(layers.Conv2D(int(image_size/8), (3, 3), activation='relu'))\n",
    "model.add(layers.BatchNormalization())\n",
    "model.add(layers.Conv2D(int(image_size/8), (3, 3), activation='relu'))\n",
    "model.add(layers.BatchNormalization())\n",
    "model.add(layers.MaxPooling2D((2, 2)))\n",
    "\n",
    "model.add(layers.Conv2D(int(image_size/16), (3, 3), activation='relu'))\n",
    "model.add(layers.BatchNormalization())\n",
    "model.add(layers.Conv2D(int(image_size/16), (3, 3), activation='relu'))\n",
    "model.add(layers.BatchNormalization())\n",
    "model.add(layers.AveragePooling2D((2, 2)))\n",
    "\n",
    "model.add(layers.Flatten())\n",
    "model.add(layers.Dense(52, activation='relu'))\n",
    "model.add(layers.Dropout(0.5))\n",
    "model.add(layers.Dense(1, activation='softmax'))\n"
   ]
  },
  {
   "cell_type": "code",
   "execution_count": 12,
   "metadata": {
    "colab": {},
    "colab_type": "code",
    "id": "8Yu_m-TZUWGX"
   },
   "outputs": [
    {
     "output_type": "stream",
     "name": "stdout",
     "text": "Model: \"sequential\"\n_________________________________________________________________\nLayer (type)                 Output Shape              Param #   \n=================================================================\nconv2d (Conv2D)              (None, 215, 215, 217)     6076      \n_________________________________________________________________\nbatch_normalization (BatchNo (None, 215, 215, 217)     868       \n_________________________________________________________________\nconv2d_1 (Conv2D)            (None, 213, 213, 217)     424018    \n_________________________________________________________________\nbatch_normalization_1 (Batch (None, 213, 213, 217)     868       \n_________________________________________________________________\nmax_pooling2d (MaxPooling2D) (None, 106, 106, 217)     0         \n_________________________________________________________________\nconv2d_2 (Conv2D)            (None, 104, 104, 108)     211032    \n_________________________________________________________________\nbatch_normalization_2 (Batch (None, 104, 104, 108)     432       \n_________________________________________________________________\nconv2d_3 (Conv2D)            (None, 102, 102, 108)     105084    \n_________________________________________________________________\nbatch_normalization_3 (Batch (None, 102, 102, 108)     432       \n_________________________________________________________________\nmax_pooling2d_1 (MaxPooling2 (None, 51, 51, 108)       0         \n_________________________________________________________________\nconv2d_4 (Conv2D)            (None, 49, 49, 54)        52542     \n_________________________________________________________________\nbatch_normalization_4 (Batch (None, 49, 49, 54)        216       \n_________________________________________________________________\nconv2d_5 (Conv2D)            (None, 47, 47, 54)        26298     \n_________________________________________________________________\nbatch_normalization_5 (Batch (None, 47, 47, 54)        216       \n_________________________________________________________________\nmax_pooling2d_2 (MaxPooling2 (None, 23, 23, 54)        0         \n_________________________________________________________________\nconv2d_6 (Conv2D)            (None, 21, 21, 27)        13149     \n_________________________________________________________________\nbatch_normalization_6 (Batch (None, 21, 21, 27)        108       \n_________________________________________________________________\nconv2d_7 (Conv2D)            (None, 19, 19, 27)        6588      \n_________________________________________________________________\nbatch_normalization_7 (Batch (None, 19, 19, 27)        108       \n_________________________________________________________________\nmax_pooling2d_3 (MaxPooling2 (None, 9, 9, 27)          0         \n_________________________________________________________________\nconv2d_8 (Conv2D)            (None, 7, 7, 13)          3172      \n_________________________________________________________________\nbatch_normalization_8 (Batch (None, 7, 7, 13)          52        \n_________________________________________________________________\nconv2d_9 (Conv2D)            (None, 5, 5, 13)          1534      \n_________________________________________________________________\nbatch_normalization_9 (Batch (None, 5, 5, 13)          52        \n_________________________________________________________________\naverage_pooling2d (AveragePo (None, 2, 2, 13)          0         \n_________________________________________________________________\nflatten (Flatten)            (None, 52)                0         \n_________________________________________________________________\ndense (Dense)                (None, 52)                2756      \n_________________________________________________________________\ndropout (Dropout)            (None, 52)                0         \n_________________________________________________________________\ndense_1 (Dense)              (None, 1)                 53        \n=================================================================\nTotal params: 855,654\nTrainable params: 853,978\nNon-trainable params: 1,676\n_________________________________________________________________\n"
    }
   ],
   "source": [
    "model.summary()"
   ]
  },
  {
   "cell_type": "code",
   "execution_count": 13,
   "metadata": {
    "colab": {},
    "colab_type": "code",
    "id": "MdDzI75PUXrG"
   },
   "outputs": [
    {
     "output_type": "stream",
     "name": "stdout",
     "text": "Train on 686 samples, validate on 74 samples\nEpoch 1/10\n"
    }
   ],
   "source": [
    "model.compile(optimizer='adam',\n",
    "              loss=\"binary_crossentropy\",\n",
    "              metrics=['accuracy'])\n",
    "\n",
    "history = model.fit(train_images_mouth, train_labels_mouth, epochs=10, \n",
    "                    validation_data=(test_images_mouth, test_labels_mouth))"
   ]
  },
  {
   "cell_type": "markdown",
   "metadata": {
    "colab_type": "text",
    "id": "jKgyC5K_4O0d"
   },
   "source": [
    "### Evaluate the model"
   ]
  },
  {
   "cell_type": "code",
   "execution_count": null,
   "metadata": {
    "colab": {},
    "colab_type": "code",
    "id": "gtyDF0MKUcM7"
   },
   "outputs": [],
   "source": [
    "plt.plot(history.history['accuracy'], label='accuracy')\n",
    "plt.plot(history.history['val_accuracy'], label = 'val_accuracy')\n",
    "plt.xlabel('Epoch')\n",
    "plt.ylabel('Accuracy')\n",
    "plt.ylim([0.5, 1])\n",
    "plt.legend(loc='lower right')\n",
    "plt.show()\n"
   ]
  },
  {
   "cell_type": "code",
   "execution_count": null,
   "metadata": {},
   "outputs": [],
   "source": [
    "plt.title('Learning Curves')\n",
    "plt.xlabel('Epoch')\n",
    "plt.ylabel('Cross Entropy')\n",
    "plt.plot(history.history['loss'], label='train')\n",
    "plt.plot(history.history['val_loss'], label='val')\n",
    "plt.legend()\n",
    "plt.show()"
   ]
  },
  {
   "cell_type": "code",
   "execution_count": null,
   "metadata": {
    "colab": {},
    "colab_type": "code",
    "id": "0LvwaKhtUdOo"
   },
   "outputs": [],
   "source": [
    "test_loss, test_acc = model.evaluate(test_images_mouth,  test_labels_mouth, verbose=2)\n",
    "print(test_acc)"
   ]
  },
  {
   "cell_type": "markdown",
   "metadata": {
    "colab_type": "text",
    "id": "8cfJ8AR03gT5"
   },
   "source": [
    "Our simple CNN has achieved a test accuracy of over 70%. Not bad for a few lines of code! For another CNN style, see an example using the Keras subclassing API and a `tf.GradientTape` [here](https://www.tensorflow.org/tutorials/quickstart/advanced)."
   ]
  }
 ],
 "metadata": {
  "accelerator": "GPU",
  "colab": {
   "collapsed_sections": [],
   "name": "cnn.ipynb",
   "private_outputs": true,
   "provenance": [],
   "toc_visible": true
  },
  "kernelspec": {
   "display_name": "Python 3.7.7 64-bit ('icu': conda)",
   "name": "python37764biticuconda779bc934972543aea4b002dcc89bcc36"
  },
  "language_info": {
   "codemirror_mode": {
    "name": "ipython",
    "version": 3
   },
   "file_extension": ".py",
   "mimetype": "text/x-python",
   "name": "python",
   "nbconvert_exporter": "python",
   "pygments_lexer": "ipython3",
   "version": "3.7.6-final"
  }
 },
 "nbformat": 4,
 "nbformat_minor": 0
}