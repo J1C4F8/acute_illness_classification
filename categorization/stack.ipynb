{
 "cells": [
  {
   "cell_type": "code",
   "execution_count": 2,
   "metadata": {},
   "outputs": [
    {
     "output_type": "stream",
     "name": "stdout",
     "text": "\u001b[0m\u001b[01;32m'Gescand vanaf een multifunctionele printer P0916 (2).pdf'\u001b[0m*\n \u001b[34;42mICU_Augment_and_Detect\u001b[0m/\n\u001b[34;42m'Idea & Effort'\u001b[0m/\n \u001b[01;32magreement.pdf\u001b[0m*\n \u001b[01;32mcategorization.zip\u001b[0m*\n \u001b[34;42mdatasets\u001b[0m/\n \u001b[01;32mnotes.txt\u001b[0m*\n \u001b[34;42mpapers\u001b[0m/\n"
    }
   ],
   "source": [
    "%cd ICU_Augment_and_Detect/"
   ]
  },
  {
   "cell_type": "code",
   "execution_count": 20,
   "metadata": {},
   "outputs": [],
   "source": [
    "import tensorflow as tf\n",
    "from tensorflow.keras import datasets, layers, models\n",
    "import matplotlib.pyplot as plt\n",
    "import cv2\n",
    "import os\n",
    "import sys\n",
    "import numpy as np\n",
    "import random\n",
    "\n",
    "sys.path.append(os.getcwd())\n",
    "\n",
    "from categorization.cnn import make_model"
   ]
  },
  {
   "cell_type": "code",
   "execution_count": 9,
   "metadata": {},
   "outputs": [],
   "source": [
    "def load_all_models(save_path, features):\n",
    "\tall_models = list()\n",
    "\tfor feature in features:\n",
    "\t\tfilename = save_path + str(feature) + '/save.h5'\n",
    "\t\tmodel = tf.keras.models.load_model(filename)\n",
    "\t\tall_models.append(model)\n",
    "\t\tprint('loaded model of ' + str(feature))\n",
    "\treturn all_models\n",
    "\n",
    "def define_stacked_model(neural_nets, features):\n",
    "\n",
    "\tfor i in range(len(neural_nets)):\n",
    "\t\tmodel = neural_nets[i]\n",
    "\t\tfor layer in model.layers:\n",
    "\t\t\tlayer.trainable = False\n",
    "\t\t\tlayer._name = 'ensemble_' + str(features[i]) + '_' + layer.name\n",
    "\t# define multi-headed input\n",
    "\tensemble_visible = [model.input for model in neural_nets]\n",
    "\ti = 0\n",
    "\tfor layer in ensemble_visible:\n",
    "\t\tlayer.name = str(features[i]) + \"_\" + layer.name \n",
    "\t# concatenate merge output from each model\n",
    "\tensemble_outputs = [model.output for model in neural_nets]\n",
    "\ti = 0\n",
    "\tfor layer in ensemble_outputs:\n",
    "\t\tlayer.name = str(features[i]) + \"_\" + layer.name \n",
    "    \n",
    "\tmerge = tf.keras.layers.concatenate(ensemble_outputs)\n",
    "\thidden = tf.keras.layers.Dense(10, activation='relu')(merge)\n",
    "\toutput = tf.keras.layers.Dense(3, activation='softmax')(hidden)\n",
    "\tmodel = tf.keras.Model(inputs=ensemble_visible, outputs=output)\n",
    "\t# plot graph of ensemble\n",
    "\ttf.keras.utils.plot_model(model, show_shapes=True, to_file='data/plots/model_graph.png')\n",
    "\t# compile\n",
    "\tmodel.compile(loss='categorical_crossentropy', optimizer='adam', metrics=['accuracy'])\n",
    "\treturn model\n",
    "\n",
    "def fit_stacked_model(model, inputX, inputy):\n",
    "\t# prepare input data\n",
    "\tX = [inputX for _ in range(len(model.input))]\n",
    "\t# encode output data\n",
    "\tinputy_enc = to_categorical(inputy)\n",
    "\t# fit model\n",
    "\tmodel.fit(X, inputy_enc, epochs=300, verbose=0)\n",
    " \n",
    "# make a prediction with a stacked model\n",
    "def predict_stacked_model(model, inputX):\n",
    "\t# prepare input data\n",
    "\tX = [inputX for _ in range(len(model.input))]\n",
    "\t# make prediction\n",
    "\treturn model.predict(X, verbose=0)"
   ]
  },
  {
   "cell_type": "code",
   "execution_count": 13,
   "metadata": {},
   "outputs": [
    {
     "output_type": "stream",
     "name": "stdout",
     "text": "loaded model of mouth\nloaded model of face\n"
    }
   ],
   "source": [
    "if __name__ == \"__main__\":\n",
    "\n",
    "    save_path = 'categorization/model_saves/'\n",
    "    face_features = [\"mouth\", \"face\"]\n",
    "\n",
    "    all_models = load_all_models(save_path, face_features)\n",
    "    # stacked = define_stacked_model(all_models, face_features)\n"
   ]
  },
  {
   "cell_type": "code",
   "execution_count": 17,
   "metadata": {},
   "outputs": [],
   "source": [
    "ensemble_visible = [model.input for model in all_models]\n",
    "\n",
    "# i = 0\n",
    "# for model in all_models:\n",
    "#     # model.input._name = model.input.name + \"_\" + face_features[i]\n",
    "#     ensemble_visible.append(model.input)\n",
    "#     # i += 1"
   ]
  },
  {
   "cell_type": "code",
   "execution_count": 19,
   "metadata": {},
   "outputs": [],
   "source": [
    "\n",
    "ensemble_outputs = [model.output for model in all_models]\n",
    "    \n",
    "merge = tf.keras.layers.concatenate(ensemble_outputs)\n",
    "hidden = tf.keras.layers.Dense(10, activation='relu')(merge)\n",
    "output = tf.keras.layers.Dense(3, activation='sigmoid')(hidden)\n",
    "\n",
    "model = tf.keras.Model(inputs=ensemble_visible, outputs=output)"
   ]
  },
  {
   "cell_type": "code",
   "execution_count": null,
   "metadata": {},
   "outputs": [],
   "source": []
  }
 ],
 "metadata": {
  "language_info": {
   "codemirror_mode": {
    "name": "ipython",
    "version": 3
   },
   "file_extension": ".py",
   "mimetype": "text/x-python",
   "name": "python",
   "nbconvert_exporter": "python",
   "pygments_lexer": "ipython3",
   "version": "3.7.7-final"
  },
  "orig_nbformat": 2,
  "kernelspec": {
   "name": "python37764biticuconda84d122ec20aa4b46bd95b3ff912b2486",
   "display_name": "Python 3.7.7 64-bit ('icu': conda)"
  }
 },
 "nbformat": 4,
 "nbformat_minor": 2
}