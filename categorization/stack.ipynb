{
 "cells": [
  {
   "cell_type": "code",
   "execution_count": 3,
   "metadata": {},
   "outputs": [
    {
     "output_type": "stream",
     "name": "stdout",
     "text": "/mnt/c/Users/malin/Documents/Facultate/honours/UMCG/ICU_Augment_and_Detect\n"
    }
   ],
   "source": [
    "%cd '/mnt/c/Users/malin/Documents/Facultate/honours/UMCG/ICU_Augment_and_Detect'"
   ]
  },
  {
   "cell_type": "code",
   "execution_count": 9,
   "metadata": {},
   "outputs": [],
   "source": [
    "import tensorflow as tf\n",
    "from tensorflow.keras.utils import plot_model\n",
    "import matplotlib.pyplot as plt\n",
    "import cv2\n",
    "import os\n",
    "import sys\n",
    "import numpy as np\n",
    "import random\n",
    "import pydot \n",
    "\n",
    "sys.path.append(os.getcwd())\n",
    "\n",
    "from categorization.cnn import make_model, load_data, load_data_eyes, save_history"
   ]
  },
  {
   "cell_type": "code",
   "execution_count": 30,
   "metadata": {},
   "outputs": [],
   "source": [
    "def load_all_models(save_path, features):\n",
    "\tall_models = list()\n",
    "\tfor feature in features:\n",
    "\t\tfilename = save_path + str(feature) + '/save.h5'\n",
    "\t\tmodel = tf.keras.models.load_model(filename)\n",
    "\t\tall_models.append(model)\n",
    "\t\tprint('loaded model of ' + str(feature))\n",
    "\treturn all_models\n",
    "\n",
    "def define_stacked_model(neural_nets, features):\n",
    "\tfor model in neural_nets:\n",
    "\t\tfor layer in model.layers:\n",
    "\t\t\tlayer.trainable = False\n",
    "\n",
    "\tensemble_visible = [model.input for model in neural_nets]\n",
    "\tensemble_outputs = [model.layers[27].output for model in neural_nets]\n",
    "\n",
    "\tmerge = tf.keras.layers.concatenate(ensemble_outputs)\n",
    "\thidden = tf.keras.layers.Dense(10, activation='relu')(merge)\n",
    "\toutput = tf.keras.layers.Dense(1, activation='sigmoid')(hidden)\n",
    "\tmodel = tf.keras.Model(inputs=ensemble_visible, outputs=output)\n",
    "\n",
    "\tplot_model(model, show_shapes=True, to_file='data/plots/model_graph.png')\n",
    "\tmodel.compile(loss='binary_crossentropy', optimizer='adam', metrics=['accuracy', tf.keras.metrics.AUC()])\n",
    "\treturn model\n",
    "\n",
    "def make_training_sets(face_features, image_folder_sick, image_folder_healthy, image_size):\n",
    "    train_sets_images = []\n",
    "    train_sets_labels = []\n",
    "    for feature in face_features:\n",
    "        print(\"[INFO] loading %s\" %(feature))\n",
    "        if feature == \"eyes\":\n",
    "            train_images, train_labels = load_data_eyes(image_folder_sick, image_folder_healthy, image_size)\n",
    "            size = int(len(train_images)/2)\n",
    "            train_images = train_images[:size]\n",
    "            train_sets_labels.append(train_labels[:size])\n",
    "        else:\n",
    "            train_images, train_labels = load_data(image_folder_sick, image_folder_healthy, image_size, feature)\n",
    "        train_sets_images.append(train_images)\n",
    "    \n",
    "    return train_sets_images, train_sets_labels\n"
   ]
  },
  {
   "cell_type": "code",
   "execution_count": 22,
   "metadata": {},
   "outputs": [
    {
     "output_type": "stream",
     "name": "stdout",
     "text": "loaded model of mouth\nloaded model of face\nloaded model of skin\nloaded model of eyes\n[INFO] loading mouth\n[INFO] loading face\n[INFO] loading skin\n[INFO] loading eyes\n"
    }
   ],
   "source": [
    "if __name__ == \"__main__\":\n",
    "\n",
    "    save_path = 'categorization/model_saves/'\n",
    "    image_folder_sick = 'data/parsed/sick'\n",
    "    image_folder_healthy = 'data/parsed/healthy'\n",
    "    face_features = [\"mouth\", \"face\", \"skin\", \"eyes\"]\n",
    "    image_size = 217\n",
    "\n",
    "    all_models = load_all_models(save_path, face_features)\n",
    "\n",
    "    train_sets_images, train_sets_labels = make_training_sets(face_features, image_folder_sick, image_folder_healthy, image_size)\n",
    "\n",
    "    # stacked = define_stacked_model(all_models, face_features)\n",
    "    # history = stacked.fit(train_sets_images, train_sets_labels, epochs=100, verbose=0)\n"
   ]
  },
  {
   "cell_type": "code",
   "execution_count": 31,
   "metadata": {
    "tags": [
     "outputPrepend"
    ]
   },
   "outputs": [
    {
     "output_type": "stream",
     "name": "stdout",
     "text": "0][0]               \n__________________________________________________________________________________________________\nmax1_face (MaxPooling2D)        (None, 106, 106, 217 0           batch2_face[0][0]                \n__________________________________________________________________________________________________\nmax1_skin (MaxPooling2D)        (None, 106, 106, 217 0           batch2_skin[0][0]                \n__________________________________________________________________________________________________\nmax1_eyes (MaxPooling2D)        (None, 106, 106, 217 0           batch2_eyes[0][0]                \n__________________________________________________________________________________________________\nconv2_mouth (Conv2D)            (None, 104, 104, 108 211032      max1_mouth[0][0]                 \n__________________________________________________________________________________________________\nconv2_face (Conv2D)             (None, 104, 104, 108 211032      max1_face[0][0]                  \n__________________________________________________________________________________________________\nconv2_skin (Conv2D)             (None, 104, 104, 108 211032      max1_skin[0][0]                  \n__________________________________________________________________________________________________\nconv2_eyes (Conv2D)             (None, 104, 104, 108 211032      max1_eyes[0][0]                  \n__________________________________________________________________________________________________\nbatch3_mouth (BatchNormalizatio (None, 104, 104, 108 432         conv2_mouth[0][0]                \n__________________________________________________________________________________________________\nbatch3_face (BatchNormalization (None, 104, 104, 108 432         conv2_face[0][0]                 \n__________________________________________________________________________________________________\nbatch3_skin (BatchNormalization (None, 104, 104, 108 432         conv2_skin[0][0]                 \n__________________________________________________________________________________________________\nbatch3_eyes (BatchNormalization (None, 104, 104, 108 432         conv2_eyes[0][0]                 \n__________________________________________________________________________________________________\nconv3_mouth (Conv2D)            (None, 102, 102, 108 105084      batch3_mouth[0][0]               \n__________________________________________________________________________________________________\nconv3_face (Conv2D)             (None, 102, 102, 108 105084      batch3_face[0][0]                \n__________________________________________________________________________________________________\nconv3_skin (Conv2D)             (None, 102, 102, 108 105084      batch3_skin[0][0]                \n__________________________________________________________________________________________________\nconv3_eyes (Conv2D)             (None, 102, 102, 108 105084      batch3_eyes[0][0]                \n__________________________________________________________________________________________________\nbatch4_mouth (BatchNormalizatio (None, 102, 102, 108 432         conv3_mouth[0][0]                \n__________________________________________________________________________________________________\nbatch4_face (BatchNormalization (None, 102, 102, 108 432         conv3_face[0][0]                 \n__________________________________________________________________________________________________\nbatch4_skin (BatchNormalization (None, 102, 102, 108 432         conv3_skin[0][0]                 \n__________________________________________________________________________________________________\nbatch4_eyes (BatchNormalization (None, 102, 102, 108 432         conv3_eyes[0][0]                 \n__________________________________________________________________________________________________\nmax2_mouth (MaxPooling2D)       (None, 51, 51, 108)  0           batch4_mouth[0][0]               \n__________________________________________________________________________________________________\nmax2_face (MaxPooling2D)        (None, 51, 51, 108)  0           batch4_face[0][0]                \n__________________________________________________________________________________________________\nmax2_skin (MaxPooling2D)        (None, 51, 51, 108)  0           batch4_skin[0][0]                \n__________________________________________________________________________________________________\nmax2_eyes (MaxPooling2D)        (None, 51, 51, 108)  0           batch4_eyes[0][0]                \n__________________________________________________________________________________________________\nconv4_mouth (Conv2D)            (None, 49, 49, 54)   52542       max2_mouth[0][0]                 \n__________________________________________________________________________________________________\nconv4_face (Conv2D)             (None, 49, 49, 54)   52542       max2_face[0][0]                  \n__________________________________________________________________________________________________\nconv4_skin (Conv2D)             (None, 49, 49, 54)   52542       max2_skin[0][0]                  \n__________________________________________________________________________________________________\nconv4_eyes (Conv2D)             (None, 49, 49, 54)   52542       max2_eyes[0][0]                  \n__________________________________________________________________________________________________\nbatch5_mouth (BatchNormalizatio (None, 49, 49, 54)   216         conv4_mouth[0][0]                \n__________________________________________________________________________________________________\nbatch5_face (BatchNormalization (None, 49, 49, 54)   216         conv4_face[0][0]                 \n__________________________________________________________________________________________________\nbatch5_skin (BatchNormalization (None, 49, 49, 54)   216         conv4_skin[0][0]                 \n__________________________________________________________________________________________________\nbatch5_eyes (BatchNormalization (None, 49, 49, 54)   216         conv4_eyes[0][0]                 \n__________________________________________________________________________________________________\nconv5_mouth (Conv2D)            (None, 47, 47, 54)   26298       batch5_mouth[0][0]               \n__________________________________________________________________________________________________\nconv5_face (Conv2D)             (None, 47, 47, 54)   26298       batch5_face[0][0]                \n__________________________________________________________________________________________________\nconv5_skin (Conv2D)             (None, 47, 47, 54)   26298       batch5_skin[0][0]                \n__________________________________________________________________________________________________\nconv5_eyes (Conv2D)             (None, 47, 47, 54)   26298       batch5_eyes[0][0]                \n__________________________________________________________________________________________________\nbatch6_mouth (BatchNormalizatio (None, 47, 47, 54)   216         conv5_mouth[0][0]                \n__________________________________________________________________________________________________\nbatch6_face (BatchNormalization (None, 47, 47, 54)   216         conv5_face[0][0]                 \n__________________________________________________________________________________________________\nbatch6_skin (BatchNormalization (None, 47, 47, 54)   216         conv5_skin[0][0]                 \n__________________________________________________________________________________________________\nbatch6_eyes (BatchNormalization (None, 47, 47, 54)   216         conv5_eyes[0][0]                 \n__________________________________________________________________________________________________\nmax3_mouth (MaxPooling2D)       (None, 23, 23, 54)   0           batch6_mouth[0][0]               \n__________________________________________________________________________________________________\nmax3_face (MaxPooling2D)        (None, 23, 23, 54)   0           batch6_face[0][0]                \n__________________________________________________________________________________________________\nmax3_skin (MaxPooling2D)        (None, 23, 23, 54)   0           batch6_skin[0][0]                \n__________________________________________________________________________________________________\nmax3_eyes (MaxPooling2D)        (None, 23, 23, 54)   0           batch6_eyes[0][0]                \n__________________________________________________________________________________________________\nconv6_mouth (Conv2D)            (None, 21, 21, 27)   13149       max3_mouth[0][0]                 \n__________________________________________________________________________________________________\nconv6_face (Conv2D)             (None, 21, 21, 27)   13149       max3_face[0][0]                  \n__________________________________________________________________________________________________\nconv6_skin (Conv2D)             (None, 21, 21, 27)   13149       max3_skin[0][0]                  \n__________________________________________________________________________________________________\nconv6_eyes (Conv2D)             (None, 21, 21, 27)   13149       max3_eyes[0][0]                  \n__________________________________________________________________________________________________\nbatch7_mouth (BatchNormalizatio (None, 21, 21, 27)   108         conv6_mouth[0][0]                \n__________________________________________________________________________________________________\nbatch7_face (BatchNormalization (None, 21, 21, 27)   108         conv6_face[0][0]                 \n__________________________________________________________________________________________________\nbatch7_skin (BatchNormalization (None, 21, 21, 27)   108         conv6_skin[0][0]                 \n__________________________________________________________________________________________________\nbatch7_eyes (BatchNormalization (None, 21, 21, 27)   108         conv6_eyes[0][0]                 \n__________________________________________________________________________________________________\nconv7_mouth (Conv2D)            (None, 19, 19, 27)   6588        batch7_mouth[0][0]               \n__________________________________________________________________________________________________\nconv7_face (Conv2D)             (None, 19, 19, 27)   6588        batch7_face[0][0]                \n__________________________________________________________________________________________________\nconv7_skin (Conv2D)             (None, 19, 19, 27)   6588        batch7_skin[0][0]                \n__________________________________________________________________________________________________\nconv7_eyes (Conv2D)             (None, 19, 19, 27)   6588        batch7_eyes[0][0]                \n__________________________________________________________________________________________________\nbatch8_mouth (BatchNormalizatio (None, 19, 19, 27)   108         conv7_mouth[0][0]                \n__________________________________________________________________________________________________\nbatch8_face (BatchNormalization (None, 19, 19, 27)   108         conv7_face[0][0]                 \n__________________________________________________________________________________________________\nbatch8_skin (BatchNormalization (None, 19, 19, 27)   108         conv7_skin[0][0]                 \n__________________________________________________________________________________________________\nbatch8_eyes (BatchNormalization (None, 19, 19, 27)   108         conv7_eyes[0][0]                 \n__________________________________________________________________________________________________\nmax4_mouth (MaxPooling2D)       (None, 9, 9, 27)     0           batch8_mouth[0][0]               \n__________________________________________________________________________________________________\nmax4_face (MaxPooling2D)        (None, 9, 9, 27)     0           batch8_face[0][0]                \n__________________________________________________________________________________________________\nmax4_skin (MaxPooling2D)        (None, 9, 9, 27)     0           batch8_skin[0][0]                \n__________________________________________________________________________________________________\nmax4_eyes (MaxPooling2D)        (None, 9, 9, 27)     0           batch8_eyes[0][0]                \n__________________________________________________________________________________________________\nconv8_mouth (Conv2D)            (None, 7, 7, 13)     3172        max4_mouth[0][0]                 \n__________________________________________________________________________________________________\nconv8_face (Conv2D)             (None, 7, 7, 13)     3172        max4_face[0][0]                  \n__________________________________________________________________________________________________\nconv8_skin (Conv2D)             (None, 7, 7, 13)     3172        max4_skin[0][0]                  \n__________________________________________________________________________________________________\nconv8_eyes (Conv2D)             (None, 7, 7, 13)     3172        max4_eyes[0][0]                  \n__________________________________________________________________________________________________\nbatch9_mouth (BatchNormalizatio (None, 7, 7, 13)     52          conv8_mouth[0][0]                \n__________________________________________________________________________________________________\nbatch9_face (BatchNormalization (None, 7, 7, 13)     52          conv8_face[0][0]                 \n__________________________________________________________________________________________________\nbatch9_skin (BatchNormalization (None, 7, 7, 13)     52          conv8_skin[0][0]                 \n__________________________________________________________________________________________________\nbatch9_eyes (BatchNormalization (None, 7, 7, 13)     52          conv8_eyes[0][0]                 \n__________________________________________________________________________________________________\nconv9_mouth (Conv2D)            (None, 5, 5, 13)     1534        batch9_mouth[0][0]               \n__________________________________________________________________________________________________\nconv9_face (Conv2D)             (None, 5, 5, 13)     1534        batch9_face[0][0]                \n__________________________________________________________________________________________________\nconv9_skin (Conv2D)             (None, 5, 5, 13)     1534        batch9_skin[0][0]                \n__________________________________________________________________________________________________\nconv9_eyes (Conv2D)             (None, 5, 5, 13)     1534        batch9_eyes[0][0]                \n__________________________________________________________________________________________________\nbatch10_mouth (BatchNormalizati (None, 5, 5, 13)     52          conv9_mouth[0][0]                \n__________________________________________________________________________________________________\nbatch10_face (BatchNormalizatio (None, 5, 5, 13)     52          conv9_face[0][0]                 \n__________________________________________________________________________________________________\nbatch10_skin (BatchNormalizatio (None, 5, 5, 13)     52          conv9_skin[0][0]                 \n__________________________________________________________________________________________________\nbatch10_eyes (BatchNormalizatio (None, 5, 5, 13)     52          conv9_eyes[0][0]                 \n__________________________________________________________________________________________________\navg1_mouth (AveragePooling2D)   (None, 2, 2, 13)     0           batch10_mouth[0][0]              \n__________________________________________________________________________________________________\navg1_face (AveragePooling2D)    (None, 2, 2, 13)     0           batch10_face[0][0]               \n__________________________________________________________________________________________________\navg1_skin (AveragePooling2D)    (None, 2, 2, 13)     0           batch10_skin[0][0]               \n__________________________________________________________________________________________________\navg1_eyes (AveragePooling2D)    (None, 2, 2, 13)     0           batch10_eyes[0][0]               \n__________________________________________________________________________________________________\nflatten_mouth (Flatten)         (None, 52)           0           avg1_mouth[0][0]                 \n__________________________________________________________________________________________________\nflatten_face (Flatten)          (None, 52)           0           avg1_face[0][0]                  \n__________________________________________________________________________________________________\nflatten_skin (Flatten)          (None, 52)           0           avg1_skin[0][0]                  \n__________________________________________________________________________________________________\nflatten_eyes (Flatten)          (None, 52)           0           avg1_eyes[0][0]                  \n__________________________________________________________________________________________________\ndense1_mouth (Dense)            (None, 52)           2756        flatten_mouth[0][0]              \n__________________________________________________________________________________________________\ndense1_face (Dense)             (None, 52)           2756        flatten_face[0][0]               \n__________________________________________________________________________________________________\ndense1_skin (Dense)             (None, 52)           2756        flatten_skin[0][0]               \n__________________________________________________________________________________________________\ndense1_eyes (Dense)             (None, 52)           2756        flatten_eyes[0][0]               \n__________________________________________________________________________________________________\ndropout_mouth (Dropout)         (None, 52)           0           dense1_mouth[0][0]               \n__________________________________________________________________________________________________\ndropout_face (Dropout)          (None, 52)           0           dense1_face[0][0]                \n__________________________________________________________________________________________________\ndropout_skin (Dropout)          (None, 52)           0           dense1_skin[0][0]                \n__________________________________________________________________________________________________\ndropout_eyes (Dropout)          (None, 52)           0           dense1_eyes[0][0]                \n__________________________________________________________________________________________________\nconcatenate_9 (Concatenate)     (None, 208)          0           dropout_mouth[0][0]              \n                                                                 dropout_face[0][0]               \n                                                                 dropout_skin[0][0]               \n                                                                 dropout_eyes[0][0]               \n__________________________________________________________________________________________________\ndense_18 (Dense)                (None, 10)           2090        concatenate_9[0][0]              \n__________________________________________________________________________________________________\ndense_19 (Dense)                (None, 1)            11          dense_18[0][0]                   \n==================================================================================================\nTotal params: 3,424,505\nTrainable params: 2,101\nNon-trainable params: 3,422,404\n__________________________________________________________________________________________________\n"
    }
   ],
   "source": [
    "stacked = define_stacked_model(all_models, face_features)\n",
    "stacked.summary()"
   ]
  },
  {
   "cell_type": "code",
   "execution_count": 28,
   "metadata": {},
   "outputs": [
    {
     "output_type": "stream",
     "name": "stdout",
     "text": "Model: \"sequential\"\n_________________________________________________________________\nLayer (type)                 Output Shape              Param #   \n=================================================================\ninput_mouth (Conv2D)         (None, 215, 215, 217)     6076      \n_________________________________________________________________\nbatch1_mouth (BatchNormaliza (None, 215, 215, 217)     868       \n_________________________________________________________________\nconv1_mouth (Conv2D)         (None, 213, 213, 217)     424018    \n_________________________________________________________________\nbatch2_mouth (BatchNormaliza (None, 213, 213, 217)     868       \n_________________________________________________________________\nmax1_mouth (MaxPooling2D)    (None, 106, 106, 217)     0         \n_________________________________________________________________\nconv2_mouth (Conv2D)         (None, 104, 104, 108)     211032    \n_________________________________________________________________\nbatch3_mouth (BatchNormaliza (None, 104, 104, 108)     432       \n_________________________________________________________________\nconv3_mouth (Conv2D)         (None, 102, 102, 108)     105084    \n_________________________________________________________________\nbatch4_mouth (BatchNormaliza (None, 102, 102, 108)     432       \n_________________________________________________________________\nmax2_mouth (MaxPooling2D)    (None, 51, 51, 108)       0         \n_________________________________________________________________\nconv4_mouth (Conv2D)         (None, 49, 49, 54)        52542     \n_________________________________________________________________\nbatch5_mouth (BatchNormaliza (None, 49, 49, 54)        216       \n_________________________________________________________________\nconv5_mouth (Conv2D)         (None, 47, 47, 54)        26298     \n_________________________________________________________________\nbatch6_mouth (BatchNormaliza (None, 47, 47, 54)        216       \n_________________________________________________________________\nmax3_mouth (MaxPooling2D)    (None, 23, 23, 54)        0         \n_________________________________________________________________\nconv6_mouth (Conv2D)         (None, 21, 21, 27)        13149     \n_________________________________________________________________\nbatch7_mouth (BatchNormaliza (None, 21, 21, 27)        108       \n_________________________________________________________________\nconv7_mouth (Conv2D)         (None, 19, 19, 27)        6588      \n_________________________________________________________________\nbatch8_mouth (BatchNormaliza (None, 19, 19, 27)        108       \n_________________________________________________________________\nmax4_mouth (MaxPooling2D)    (None, 9, 9, 27)          0         \n_________________________________________________________________\nconv8_mouth (Conv2D)         (None, 7, 7, 13)          3172      \n_________________________________________________________________\nbatch9_mouth (BatchNormaliza (None, 7, 7, 13)          52        \n_________________________________________________________________\nconv9_mouth (Conv2D)         (None, 5, 5, 13)          1534      \n_________________________________________________________________\nbatch10_mouth (BatchNormaliz (None, 5, 5, 13)          52        \n_________________________________________________________________\navg1_mouth (AveragePooling2D (None, 2, 2, 13)          0         \n_________________________________________________________________\nflatten_mouth (Flatten)      (None, 52)                0         \n_________________________________________________________________\ndense1_mouth (Dense)         (None, 52)                2756      \n_________________________________________________________________\ndropout_mouth (Dropout)      (None, 52)                0         \n_________________________________________________________________\ndense2_mouth (Dense)         (None, 1)                 53        \n=================================================================\nTotal params: 1,709,632\nTrainable params: 853,978\nNon-trainable params: 855,654\n_________________________________________________________________\n<tensorflow.python.keras.layers.core.Dropout object at 0x7f23117bc950>\n"
    }
   ],
   "source": [
    "mouth = all_models[0]\n",
    "mouth.summary()\n",
    "print(mouth.layers[27])"
   ]
  },
  {
   "cell_type": "code",
   "execution_count": null,
   "metadata": {},
   "outputs": [],
   "source": []
  }
 ],
 "metadata": {
  "language_info": {
   "codemirror_mode": {
    "name": "ipython",
    "version": 3
   },
   "file_extension": ".py",
   "mimetype": "text/x-python",
   "name": "python",
   "nbconvert_exporter": "python",
   "pygments_lexer": "ipython3",
   "version": "3.7.7-final"
  },
  "orig_nbformat": 2,
  "kernelspec": {
   "name": "python37764biticuconda779bc934972543aea4b002dcc89bcc36",
   "display_name": "Python 3.7.7 64-bit ('icu': conda)"
  }
 },
 "nbformat": 4,
 "nbformat_minor": 2
}