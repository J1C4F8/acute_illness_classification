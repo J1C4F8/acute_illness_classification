{
 "cells": [
  {
   "cell_type": "code",
   "execution_count": 8,
   "metadata": {},
   "outputs": [
    {
     "output_type": "stream",
     "name": "stdout",
     "text": "\u001b[0m\u001b[01;32m'Gescand vanaf een multifunctionele printer P0916 (2).pdf'\u001b[0m*\n \u001b[34;42mICU_Augment_and_Detect\u001b[0m/\n\u001b[34;42m'Idea & Effort'\u001b[0m/\n \u001b[01;32magreement.pdf\u001b[0m*\n \u001b[01;32mcategorization.zip\u001b[0m*\n \u001b[34;42mdatasets\u001b[0m/\n \u001b[01;32mnotes.txt\u001b[0m*\n \u001b[34;42mpapers\u001b[0m/\n"
    }
   ],
   "source": [
    "%cd ICU_Augment_and_Detect/"
   ]
  },
  {
   "cell_type": "code",
   "execution_count": 9,
   "metadata": {},
   "outputs": [],
   "source": [
    "import tensorflow as tf\n",
    "from tensorflow.keras.utils import plot_model\n",
    "import matplotlib.pyplot as plt\n",
    "import cv2\n",
    "import os\n",
    "import sys\n",
    "import numpy as np\n",
    "import random\n",
    "import pydot \n",
    "\n",
    "sys.path.append(os.getcwd())\n",
    "\n",
    "from categorization.cnn import make_model, load_data, load_data_eyes, make_plots"
   ]
  },
  {
   "cell_type": "code",
   "execution_count": 10,
   "metadata": {},
   "outputs": [],
   "source": [
    "def load_all_models(save_path, features):\n",
    "\tall_models = list()\n",
    "\tfor feature in features:\n",
    "\t\tfilename = save_path + str(feature) + '/save.h5'\n",
    "\t\tmodel = tf.keras.models.load_model(filename)\n",
    "\t\tall_models.append(model)\n",
    "\t\tprint('loaded model of ' + str(feature))\n",
    "\treturn all_models\n",
    "\n",
    "def define_stacked_model(neural_nets, features):\n",
    "\tensemble_visible = [model.input for model in neural_nets]\n",
    "\tensemble_outputs = [model.output for model in neural_nets]\n",
    "\n",
    "\tmerge = tf.keras.layers.concatenate(ensemble_outputs)\n",
    "\thidden = tf.keras.layers.Dense(10, activation='relu')(merge)\n",
    "\toutput = tf.keras.layers.Dense(1, activation='sigmoid')(hidden)\n",
    "\tmodel = tf.keras.Model(inputs=ensemble_visible, outputs=output)\n",
    "\n",
    "\tplot_model(model, show_shapes=True, to_file='data/plots/model_graph.png')\n",
    "\tmodel.compile(loss='binary_crossentropy', optimizer='adam', metrics=['accuracy', tf.keras.metrics.AUC()])\n",
    "\treturn model\n",
    "\n",
    "def make_training_sets(face_features, image_folder_sick, image_folder_healthy, image_size):\n",
    "    train_sets_images = []\n",
    "    train_sets_labels = []\n",
    "    for feature in face_features:\n",
    "        print(\"[INFO] loading %s\" %(feature))\n",
    "        if feature == \"eyes\":\n",
    "            train_images, train_labels = load_data_eyes(image_folder_sick, image_folder_healthy, image_size)\n",
    "            size = int(len(train_images)/2)\n",
    "            train_images = train_images[:size]\n",
    "            train_sets_labels.append(train_labels[:size])\n",
    "        else:\n",
    "            train_images, train_labels = load_data(image_folder_sick, image_folder_healthy, image_size, feature)\n",
    "        train_sets_images.append(train_images)\n",
    "    \n",
    "    return train_sets_images, train_sets_labels\n"
   ]
  },
  {
   "cell_type": "code",
   "execution_count": 12,
   "metadata": {},
   "outputs": [
    {
     "output_type": "stream",
     "name": "stdout",
     "text": "loaded model of mouth\nloaded model of face\nloaded model of skin\nloaded model of eyes\n[INFO] loading mouth\n[INFO] loading face\n[INFO] loading skin\n[INFO] loading eyes\n"
    }
   ],
   "source": [
    "if __name__ == \"__main__\":\n",
    "\n",
    "    save_path = 'categorization/model_saves/'\n",
    "    image_folder_sick = 'data/parsed/sick'\n",
    "    image_folder_healthy = 'data/parsed/healthy'\n",
    "    face_features = [\"mouth\", \"face\", \"skin\", \"eyes\"]\n",
    "    image_size = 217\n",
    "\n",
    "    all_models = load_all_models(save_path, face_features)\n",
    "\n",
    "    train_sets_images, train_sets_labels = make_training_sets(face_features, image_folder_sick, image_folder_healthy, image_size)\n",
    "\n",
    "    stacked = define_stacked_model(all_models, face_features)\n",
    "    history = stacked.fit(train_sets_images, train_sets_labels, epochs=100, verbose=0)\n",
    "\n",
    "    plt.plot(history.history['accuracy'], label='accuracy')\n",
    "    plt.plot(history.history['val_accuracy'], label = 'val_accuracy')\n",
    "    plt.xlabel('Epoch')\n",
    "    plt.ylabel('Accuracy')\n",
    "    plt.ylim([0.5, 1])\n",
    "    plt.legend(loc='lower right')\n",
    "    fig_path = \"data/plots/accuracy_stacked-model.png\"\n",
    "    plt.savefig(fig_path)\n"
   ]
  }
 ],
 "metadata": {
  "language_info": {
   "codemirror_mode": {
    "name": "ipython",
    "version": 3
   },
   "file_extension": ".py",
   "mimetype": "text/x-python",
   "name": "python",
   "nbconvert_exporter": "python",
   "pygments_lexer": "ipython3",
   "version": "3.7.7-final"
  },
  "orig_nbformat": 2,
  "kernelspec": {
   "name": "python37764biticuconda84d122ec20aa4b46bd95b3ff912b2486",
   "display_name": "Python 3.7.7 64-bit ('icu': conda)"
  }
 },
 "nbformat": 4,
 "nbformat_minor": 2
}